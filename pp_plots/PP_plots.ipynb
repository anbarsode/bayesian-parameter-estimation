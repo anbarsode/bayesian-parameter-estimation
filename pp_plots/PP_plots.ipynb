{
 "cells": [
  {
   "cell_type": "markdown",
   "id": "21d55291-14a7-42eb-a7a5-309feaded1cd",
   "metadata": {},
   "source": [
    "# PP plots: the what, the why and the how\n",
    "Author: Ankur Barsode"
   ]
  },
  {
   "cell_type": "markdown",
   "id": "d5f0e83f-d9d6-4259-8cfe-fa8ed9bbac81",
   "metadata": {},
   "source": [
    "## Introduction\n",
    "PP plot = Probability-Probability plot\n",
    "\n",
    "It is a way of testing whether a Bayesian parameter estimation pipeline (\"*machine*\") is working as expected. It checks whether the posterior probability distribution returned by the machine is indeed a valid probability distribution.\n",
    "\n",
    "This is a frequentist test of a Bayesian machine (you are checking if the \"frequency\" of injections occuring in different parameter regions is proportional to the posterior probability).\n",
    "\n",
    "Before getting into how PP plots work and how to calculate them, let us first refresh our understanding of Bayesian parameter estimation"
   ]
  },
  {
   "cell_type": "markdown",
   "id": "210214c5-81e7-4788-b978-0e778a2b09d2",
   "metadata": {},
   "source": [
    "## Bayesian parameter estimation\n",
    "bayes theorem, likelihood, prior, posterior, evidence"
   ]
  },
  {
   "cell_type": "markdown",
   "id": "8c44df8b-aa49-4928-937c-273078ea097e",
   "metadata": {},
   "source": [
    "## How to check if the machine works?\n",
    "if the machine says this is the PDF, random realizations should follow it; justifying the name PP, potential definitions of confidence intervals"
   ]
  },
  {
   "cell_type": "markdown",
   "id": "6839e6dc-eb29-4062-a221-bde45d4c34b5",
   "metadata": {},
   "source": [
    "## Calculating the PP plot\n",
    "what will we do in this section"
   ]
  },
  {
   "cell_type": "markdown",
   "id": "f85c9dd4-0758-4934-89a9-8f8dc4b4c17e",
   "metadata": {},
   "source": [
    "### Building a simple PE machine\n",
    "for estimating a gaussian"
   ]
  },
  {
   "cell_type": "markdown",
   "id": "52d83eed-cb2f-4264-8299-69458cd24851",
   "metadata": {},
   "source": [
    "### Computing the PP plot\n",
    "calculating the CI, their CDF"
   ]
  },
  {
   "cell_type": "markdown",
   "id": "dc3b5b40-f9e2-47c5-a11f-3329d9eb9f86",
   "metadata": {},
   "source": [
    "### Quantifying biases in PP plot\n",
    "we got the PP and it looks like a noisy straight line, how do I know how good or bad is it?\n",
    "\n",
    "effect of finite number of samples, binom test, frequentist p-value test, a bit on p-values, cite bilby function"
   ]
  },
  {
   "cell_type": "markdown",
   "id": "e49107ce-3c8d-4c50-bdef-4ab836fd146c",
   "metadata": {},
   "source": [
    "## How do PP plots look when the machine is faulty?\n",
    "cite greg ashton, make a faulty machine, show the biases and variances"
   ]
  },
  {
   "cell_type": "markdown",
   "id": "57a375f5-48f2-4d52-8912-0729666e27ad",
   "metadata": {},
   "source": [
    "## Multidimensional generalizations\n",
    "usual marginalized version, some real results, a joint confidence level PP"
   ]
  },
  {
   "cell_type": "markdown",
   "id": "a731b05a-0b90-4759-becc-914ab635b60d",
   "metadata": {},
   "source": [
    "## Summary\n",
    "The full algorithm"
   ]
  }
 ],
 "metadata": {
  "kernelspec": {
   "display_name": "Python 3 (ipykernel)",
   "language": "python",
   "name": "python3"
  },
  "language_info": {
   "codemirror_mode": {
    "name": "ipython",
    "version": 3
   },
   "file_extension": ".py",
   "mimetype": "text/x-python",
   "name": "python",
   "nbconvert_exporter": "python",
   "pygments_lexer": "ipython3",
   "version": "3.10.14"
  }
 },
 "nbformat": 4,
 "nbformat_minor": 5
}
